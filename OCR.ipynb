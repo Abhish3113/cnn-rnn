{
 "cells": [
  {
   "cell_type": "code",
   "execution_count": null,
   "id": "ef08dd71",
   "metadata": {},
   "outputs": [],
   "source": [
    "# Import the necessary libraries\n",
    "import pytesseract\n",
    "from PIL import Image\n",
    "\n",
    "# Path to your Tesseract executable (modify this according to your installation)\n",
    "pytesseract.pytesseract.tesseract_cmd = r\"C:\\Users\\abhis\\Mine\\CV_parle\\images\\doc_on_the_desk.jpg\"'\n",
    "\n",
    "# Load an image using PIL (Python Imaging Library)\n",
    "image_path = 'your_image.png'\n",
    "image = Image.open(image_path)\n",
    "\n",
    "# Perform OCR on the image and save the extracted text into a variable\n",
    "extracted_text = pytesseract.image_to_string(image)\n",
    "\n",
    "# Now, you can use the 'extracted_text' variable in your Python code\n",
    "print(\"Extracted Text:\")\n",
    "print(extracted_text)\n"
   ]
  }
 ],
 "metadata": {
  "kernelspec": {
   "display_name": "Python 3 (ipykernel)",
   "language": "python",
   "name": "python3"
  },
  "language_info": {
   "codemirror_mode": {
    "name": "ipython",
    "version": 3
   },
   "file_extension": ".py",
   "mimetype": "text/x-python",
   "name": "python",
   "nbconvert_exporter": "python",
   "pygments_lexer": "ipython3",
   "version": "3.11.5"
  }
 },
 "nbformat": 4,
 "nbformat_minor": 5
}
