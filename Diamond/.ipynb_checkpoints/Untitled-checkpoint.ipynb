{
 "cells": [
  {
   "cell_type": "code",
   "execution_count": 96,
   "id": "a34dc38e",
   "metadata": {},
   "outputs": [],
   "source": [
    "import pandas as pd\n",
    "import numpy as np\n",
    "\n",
    "import torch\n",
    "import torch.nn as nn\n",
    "import torch.nn.functional as F"
   ]
  },
  {
   "cell_type": "code",
   "execution_count": 260,
   "id": "8aa08830",
   "metadata": {
    "scrolled": true
   },
   "outputs": [
    {
     "name": "stdout",
     "output_type": "stream",
     "text": [
      "<class 'pandas.core.frame.DataFrame'>\n",
      "RangeIndex: 219703 entries, 0 to 219702\n",
      "Data columns (total 26 columns):\n",
      " #   Column                       Non-Null Count   Dtype  \n",
      "---  ------                       --------------   -----  \n",
      " 0   Unnamed: 0                   219703 non-null  int64  \n",
      " 1   cut                          219703 non-null  object \n",
      " 2   color                        219703 non-null  object \n",
      " 3   clarity                      219703 non-null  object \n",
      " 4   carat_weight                 219703 non-null  float64\n",
      " 5   cut_quality                  219703 non-null  object \n",
      " 6   lab                          219703 non-null  object \n",
      " 7   symmetry                     219703 non-null  object \n",
      " 8   polish                       219703 non-null  object \n",
      " 9   eye_clean                    219703 non-null  object \n",
      " 10  culet_size                   219703 non-null  object \n",
      " 11  culet_condition              219703 non-null  object \n",
      " 12  depth_percent                219703 non-null  float64\n",
      " 13  table_percent                219703 non-null  float64\n",
      " 14  meas_length                  219703 non-null  float64\n",
      " 15  meas_width                   219703 non-null  float64\n",
      " 16  meas_depth                   219703 non-null  float64\n",
      " 17  girdle_min                   219703 non-null  object \n",
      " 18  girdle_max                   219703 non-null  object \n",
      " 19  fluor_color                  219703 non-null  object \n",
      " 20  fluor_intensity              76212 non-null   object \n",
      " 21  fancy_color_dominant_color   219703 non-null  object \n",
      " 22  fancy_color_secondary_color  219703 non-null  object \n",
      " 23  fancy_color_overtone         218053 non-null  object \n",
      " 24  fancy_color_intensity        219703 non-null  object \n",
      " 25  total_sales_price            219703 non-null  int64  \n",
      "dtypes: float64(6), int64(2), object(18)\n",
      "memory usage: 43.6+ MB\n"
     ]
    }
   ],
   "source": [
    "df = pd.read_csv(\"diamonds.csv\")\n",
    "df.info()"
   ]
  },
  {
   "cell_type": "code",
   "execution_count": 261,
   "id": "fc53fcc6",
   "metadata": {},
   "outputs": [
    {
     "data": {
      "text/plain": [
       "fluor_intensity\n",
       "Faint          38302\n",
       "Medium         20705\n",
       "Strong         13243\n",
       "Very Slight     2729\n",
       "Very Strong     1093\n",
       "unknown          128\n",
       "Slight            12\n",
       "Name: count, dtype: int64"
      ]
     },
     "execution_count": 261,
     "metadata": {},
     "output_type": "execute_result"
    }
   ],
   "source": [
    "df[\"fluor_intensity\"].value_counts()"
   ]
  },
  {
   "cell_type": "code",
   "execution_count": 262,
   "id": "3dfa9fe3",
   "metadata": {},
   "outputs": [
    {
     "name": "stdout",
     "output_type": "stream",
     "text": [
      "Unique Value in Unnamed: 0: \t\t Columns are 219703\n",
      "Unique Value in cut: \t\t Columns are 11\n",
      "Unique Value in color: \t\t Columns are 11\n",
      "Unique Value in clarity: \t\t Columns are 11\n",
      "Unique Value in carat_weight: \t\t Columns are 878\n",
      "Unique Value in cut_quality: \t\t Columns are 6\n",
      "Unique Value in lab: \t\t Columns are 3\n",
      "Unique Value in symmetry: \t\t Columns are 5\n",
      "Unique Value in polish: \t\t Columns are 5\n",
      "Unique Value in eye_clean: \t\t Columns are 5\n",
      "Unique Value in culet_size: \t\t Columns are 9\n",
      "Unique Value in culet_condition: \t\t Columns are 4\n",
      "Unique Value in depth_percent: \t\t Columns are 534\n",
      "Unique Value in table_percent: \t\t Columns are 235\n",
      "Unique Value in meas_length: \t\t Columns are 1415\n",
      "Unique Value in meas_width: \t\t Columns are 1155\n",
      "Unique Value in meas_depth: \t\t Columns are 852\n",
      "Unique Value in girdle_min: \t\t Columns are 10\n",
      "Unique Value in girdle_max: \t\t Columns are 10\n",
      "Unique Value in fluor_color: \t\t Columns are 6\n",
      "Unique Value in fluor_intensity: \t\t Columns are 7\n",
      "Unique Value in fancy_color_dominant_color: \t\t Columns are 13\n",
      "Unique Value in fancy_color_secondary_color: \t\t Columns are 11\n",
      "Unique Value in fancy_color_overtone: \t\t Columns are 8\n",
      "Unique Value in fancy_color_intensity: \t\t Columns are 10\n",
      "Unique Value in total_sales_price: \t\t Columns are 22202\n"
     ]
    }
   ],
   "source": [
    "for i in df.columns:\n",
    "    print(\"Unique Value in {}: \\t\\t Columns are {}\".format(i, df[i].nunique()))"
   ]
  },
  {
   "cell_type": "code",
   "execution_count": 263,
   "id": "0ee24247",
   "metadata": {},
   "outputs": [],
   "source": [
    "df = df.drop([\"Unnamed: 0\",\"fluor_intensity\"], axis=1)"
   ]
  },
  {
   "cell_type": "code",
   "execution_count": 277,
   "id": "31ce6c74",
   "metadata": {},
   "outputs": [],
   "source": [
    "from sklearn.preprocessing import LabelEncoder\n",
    "l1 = [\"cut\",\"color\",\"clarity\",\"cut_quality\",\"lab\",\"symmetry\",\"polish\",\"eye_clean\",\n",
    "     \"culet_size\",\"culet_condition\",\"girdle_min\",\"girdle_max\",\"fluor_color\",\n",
    "      \"fancy_color_dominant_color\",\"fancy_color_secondary_color\",\"fancy_color_overtone\",\n",
    "     \"fancy_color_intensity\"]\n",
    "\n",
    "#lb.fit_transform()\n",
    "for i in l1:\n",
    "    lb = LabelEncoder()\n",
    "    df[i] = lb.fit_transform(df[i])"
   ]
  },
  {
   "cell_type": "code",
   "execution_count": 279,
   "id": "411f26c1",
   "metadata": {},
   "outputs": [
    {
     "data": {
      "text/plain": [
       "17"
      ]
     },
     "execution_count": 279,
     "metadata": {},
     "output_type": "execute_result"
    }
   ],
   "source": [
    "len(l1)"
   ]
  },
  {
   "cell_type": "code",
   "execution_count": 280,
   "id": "ea32b0f8",
   "metadata": {},
   "outputs": [
    {
     "data": {
      "text/plain": [
       "array([[10,  1, 10, ..., 10,  7,  9],\n",
       "       [10,  1, 10, ..., 10,  7,  9],\n",
       "       [10,  1, 10, ..., 10,  7,  9],\n",
       "       ...,\n",
       "       [10,  1,  7, ..., 10,  7,  9],\n",
       "       [ 8, 10,  5, ..., 10,  7,  1],\n",
       "       [ 7, 10, 10, ..., 10,  7,  6]], dtype=int64)"
      ]
     },
     "execution_count": 280,
     "metadata": {},
     "output_type": "execute_result"
    }
   ],
   "source": [
    "cat_features = np.stack([df[\"cut\"],df[\"color\"],df[\"clarity\"],df[\"cut_quality\"],df[\"lab\"],df[\"symmetry\"],df[\"polish\"],\n",
    "                         df[\"eye_clean\"],df[\"culet_size\"],df[\"culet_condition\"],df[\"girdle_min\"],df[\"girdle_max\"],\n",
    "                         df[\"fluor_color\"],df[\"fancy_color_dominant_color\"],\n",
    "                         df[\"fancy_color_secondary_color\"],df[\"fancy_color_overtone\"],df[\"fancy_color_intensity\"]], 1)\n",
    "cat_features"
   ]
  },
  {
   "cell_type": "code",
   "execution_count": 281,
   "id": "a25fd0eb",
   "metadata": {},
   "outputs": [
    {
     "data": {
      "text/plain": [
       "tensor([[10,  1, 10,  ..., 10,  7,  9],\n",
       "        [10,  1, 10,  ..., 10,  7,  9],\n",
       "        [10,  1, 10,  ..., 10,  7,  9],\n",
       "        ...,\n",
       "        [10,  1,  7,  ..., 10,  7,  9],\n",
       "        [ 8, 10,  5,  ..., 10,  7,  1],\n",
       "        [ 7, 10, 10,  ..., 10,  7,  6]])"
      ]
     },
     "execution_count": 281,
     "metadata": {},
     "output_type": "execute_result"
    }
   ],
   "source": [
    "cat_features = torch.tensor(cat_features)\n",
    "cat_features"
   ]
  },
  {
   "cell_type": "code",
   "execution_count": 282,
   "id": "1c019728",
   "metadata": {},
   "outputs": [],
   "source": [
    "l2 = l1.copy()\n",
    "l2.append(\"total_sales_price\")"
   ]
  },
  {
   "cell_type": "code",
   "execution_count": 287,
   "id": "f61b2ae8",
   "metadata": {},
   "outputs": [],
   "source": [
    "\n",
    "cont_features = []\n",
    "for i in df.columns:\n",
    "    if i in l2:\n",
    "        pass\n",
    "    else:\n",
    "        cont_features.append(i)\n",
    "    "
   ]
  },
  {
   "cell_type": "code",
   "execution_count": 288,
   "id": "ef94c742",
   "metadata": {},
   "outputs": [
    {
     "data": {
      "text/plain": [
       "['carat_weight',\n",
       " 'depth_percent',\n",
       " 'table_percent',\n",
       " 'meas_length',\n",
       " 'meas_width',\n",
       " 'meas_depth']"
      ]
     },
     "execution_count": 288,
     "metadata": {},
     "output_type": "execute_result"
    }
   ],
   "source": [
    "cont_features"
   ]
  },
  {
   "cell_type": "code",
   "execution_count": 289,
   "id": "002b473e",
   "metadata": {},
   "outputs": [
    {
     "data": {
      "text/plain": [
       "tensor([[ 0.0900, 62.7000, 59.0000,  2.8500,  2.8700,  1.7900],\n",
       "        [ 0.0900, 61.9000, 59.0000,  2.8400,  2.8900,  1.7800],\n",
       "        [ 0.0900, 61.1000, 59.0000,  2.8800,  2.9000,  1.7700],\n",
       "        ...,\n",
       "        [18.0700, 60.2000, 59.0000, 17.0600, 17.1000, 10.2000],\n",
       "        [ 0.9000, 70.8000, 72.0000,  5.2200,  4.9000,  3.4700],\n",
       "        [10.0300, 66.7000, 65.0000, 15.6100, 11.0900,  7.3900]],\n",
       "       dtype=torch.float64)"
      ]
     },
     "execution_count": 289,
     "metadata": {},
     "output_type": "execute_result"
    }
   ],
   "source": [
    "cont_features = np.stack([df[i].values for i in cont_features], axis = 1)\n",
    "cont_features = torch.tensor(cont_features)\n",
    "cont_features\n"
   ]
  },
  {
   "cell_type": "code",
   "execution_count": 290,
   "id": "18c242f5",
   "metadata": {},
   "outputs": [
    {
     "name": "stdout",
     "output_type": "stream",
     "text": [
      "<class 'pandas.core.frame.DataFrame'>\n",
      "RangeIndex: 219703 entries, 0 to 219702\n",
      "Data columns (total 24 columns):\n",
      " #   Column                       Non-Null Count   Dtype  \n",
      "---  ------                       --------------   -----  \n",
      " 0   cut                          219703 non-null  int64  \n",
      " 1   color                        219703 non-null  int64  \n",
      " 2   clarity                      219703 non-null  int64  \n",
      " 3   carat_weight                 219703 non-null  float64\n",
      " 4   cut_quality                  219703 non-null  int64  \n",
      " 5   lab                          219703 non-null  int64  \n",
      " 6   symmetry                     219703 non-null  int64  \n",
      " 7   polish                       219703 non-null  int64  \n",
      " 8   eye_clean                    219703 non-null  int64  \n",
      " 9   culet_size                   219703 non-null  int64  \n",
      " 10  culet_condition              219703 non-null  int64  \n",
      " 11  depth_percent                219703 non-null  float64\n",
      " 12  table_percent                219703 non-null  float64\n",
      " 13  meas_length                  219703 non-null  float64\n",
      " 14  meas_width                   219703 non-null  float64\n",
      " 15  meas_depth                   219703 non-null  float64\n",
      " 16  girdle_min                   219703 non-null  int64  \n",
      " 17  girdle_max                   219703 non-null  int64  \n",
      " 18  fluor_color                  219703 non-null  int64  \n",
      " 19  fancy_color_dominant_color   219703 non-null  int64  \n",
      " 20  fancy_color_secondary_color  219703 non-null  int64  \n",
      " 21  fancy_color_overtone         219703 non-null  int64  \n",
      " 22  fancy_color_intensity        219703 non-null  int64  \n",
      " 23  total_sales_price            219703 non-null  int64  \n",
      "dtypes: float64(6), int64(18)\n",
      "memory usage: 40.2 MB\n"
     ]
    }
   ],
   "source": [
    "df.info()"
   ]
  },
  {
   "cell_type": "code",
   "execution_count": 291,
   "id": "1269105b",
   "metadata": {},
   "outputs": [
    {
     "data": {
      "text/plain": [
       "(torch.Size([219703, 17]), torch.Size([219703, 6]))"
      ]
     },
     "execution_count": 291,
     "metadata": {},
     "output_type": "execute_result"
    }
   ],
   "source": [
    "cat_features.shape,cont_features.shape"
   ]
  },
  {
   "cell_type": "code",
   "execution_count": 292,
   "id": "b1d678e3",
   "metadata": {},
   "outputs": [],
   "source": [
    "y = torch.tensor(df[\"total_sales_price\"].values, dtype = torch.float).reshape(-1,1)"
   ]
  },
  {
   "cell_type": "code",
   "execution_count": 293,
   "id": "683575ac",
   "metadata": {},
   "outputs": [
    {
     "data": {
      "text/plain": [
       "torch.Size([219703, 1])"
      ]
     },
     "execution_count": 293,
     "metadata": {},
     "output_type": "execute_result"
    }
   ],
   "source": [
    "y.shape"
   ]
  },
  {
   "cell_type": "code",
   "execution_count": 294,
   "id": "ab6c370f",
   "metadata": {},
   "outputs": [
    {
     "data": {
      "text/plain": [
       "11"
      ]
     },
     "execution_count": 294,
     "metadata": {},
     "output_type": "execute_result"
    }
   ],
   "source": [
    "df[\"cut\"].nunique()"
   ]
  },
  {
   "cell_type": "code",
   "execution_count": 296,
   "id": "6d203383",
   "metadata": {},
   "outputs": [
    {
     "data": {
      "text/plain": [
       "[11, 11, 11, 6, 3, 5, 5, 5, 9, 4, 10, 10, 6, 13, 11, 9, 10]"
      ]
     },
     "execution_count": 296,
     "metadata": {},
     "output_type": "execute_result"
    }
   ],
   "source": [
    "cat_dim = [df[i].nunique() for i in l1]\n",
    "cat_dim"
   ]
  },
  {
   "cell_type": "code",
   "execution_count": 298,
   "id": "03715372",
   "metadata": {},
   "outputs": [
    {
     "data": {
      "text/plain": [
       "[(11, 6),\n",
       " (11, 6),\n",
       " (11, 6),\n",
       " (6, 3),\n",
       " (3, 2),\n",
       " (5, 3),\n",
       " (5, 3),\n",
       " (5, 3),\n",
       " (9, 5),\n",
       " (4, 2),\n",
       " (10, 5),\n",
       " (10, 5),\n",
       " (6, 3),\n",
       " (13, 7),\n",
       " (11, 6),\n",
       " (9, 5),\n",
       " (10, 5)]"
      ]
     },
     "execution_count": 298,
     "metadata": {},
     "output_type": "execute_result"
    }
   ],
   "source": [
    "embedding_dim = [(i,min(50,(i+1)//2)) for i in cat_dim]\n",
    "embedding_dim"
   ]
  },
  {
   "cell_type": "code",
   "execution_count": 299,
   "id": "81859a73",
   "metadata": {},
   "outputs": [
    {
     "data": {
      "text/plain": [
       "ModuleList(\n",
       "  (0-2): 3 x Embedding(11, 6)\n",
       "  (3): Embedding(6, 3)\n",
       "  (4): Embedding(3, 2)\n",
       "  (5-7): 3 x Embedding(5, 3)\n",
       "  (8): Embedding(9, 5)\n",
       "  (9): Embedding(4, 2)\n",
       "  (10-11): 2 x Embedding(10, 5)\n",
       "  (12): Embedding(6, 3)\n",
       "  (13): Embedding(13, 7)\n",
       "  (14): Embedding(11, 6)\n",
       "  (15): Embedding(9, 5)\n",
       "  (16): Embedding(10, 5)\n",
       ")"
      ]
     },
     "execution_count": 299,
     "metadata": {},
     "output_type": "execute_result"
    }
   ],
   "source": [
    "embedding_representation = nn.ModuleList([nn.Embedding(inp,out) for inp,out in embedding_dim])\n",
    "embedding_representation"
   ]
  },
  {
   "cell_type": "code",
   "execution_count": 303,
   "id": "03d51384",
   "metadata": {},
   "outputs": [],
   "source": [
    "pd.set_option('display.max_rows',500)\n",
    "embedding_val = []\n",
    "for i, val in enumerate(embedding_representation):\n",
    "    embedding_val.append(val(cat_features[:,i]))\n"
   ]
  },
  {
   "cell_type": "code",
   "execution_count": 304,
   "id": "202d8d81",
   "metadata": {},
   "outputs": [
    {
     "data": {
      "text/plain": [
       "[tensor([[ 1.7817, -1.4207, -0.8517,  1.2981, -0.1857, -0.7699],\n",
       "         [ 1.7817, -1.4207, -0.8517,  1.2981, -0.1857, -0.7699],\n",
       "         [ 1.7817, -1.4207, -0.8517,  1.2981, -0.1857, -0.7699],\n",
       "         ...,\n",
       "         [ 1.7817, -1.4207, -0.8517,  1.2981, -0.1857, -0.7699],\n",
       "         [ 0.4327,  1.0454,  0.1918, -0.6425,  0.6039, -2.3825],\n",
       "         [ 2.1098,  0.9428,  0.0923,  1.2979, -0.1789, -0.2871]],\n",
       "        grad_fn=<EmbeddingBackward0>),\n",
       " tensor([[ 0.1259, -1.0495, -0.1902,  0.6670, -1.1278, -0.5764],\n",
       "         [ 0.1259, -1.0495, -0.1902,  0.6670, -1.1278, -0.5764],\n",
       "         [ 0.1259, -1.0495, -0.1902,  0.6670, -1.1278, -0.5764],\n",
       "         ...,\n",
       "         [ 0.1259, -1.0495, -0.1902,  0.6670, -1.1278, -0.5764],\n",
       "         [ 0.4044, -0.5314,  1.2308,  0.0402, -0.8700,  0.1810],\n",
       "         [ 0.4044, -0.5314,  1.2308,  0.0402, -0.8700,  0.1810]],\n",
       "        grad_fn=<EmbeddingBackward0>),\n",
       " tensor([[-0.4374, -0.4314, -0.2753,  0.0104, -1.5147,  1.1828],\n",
       "         [-0.4374, -0.4314, -0.2753,  0.0104, -1.5147,  1.1828],\n",
       "         [-0.4374, -0.4314, -0.2753,  0.0104, -1.5147,  1.1828],\n",
       "         ...,\n",
       "         [ 0.0581, -0.7717, -0.7909,  0.2154,  0.6464,  1.8710],\n",
       "         [ 0.2784,  0.6673,  1.3618, -0.7677, -0.0647, -1.6724],\n",
       "         [-0.4374, -0.4314, -0.2753,  0.0104, -1.5147,  1.1828]],\n",
       "        grad_fn=<EmbeddingBackward0>),\n",
       " tensor([[ 0.6906,  1.2688,  0.3839],\n",
       "         [-1.1893,  0.2986,  0.9703],\n",
       "         [ 0.6906,  1.2688,  0.3839],\n",
       "         ...,\n",
       "         [ 0.6906,  1.2688,  0.3839],\n",
       "         [ 1.1269, -0.2646, -1.2259],\n",
       "         [ 1.1269, -0.2646, -1.2259]], grad_fn=<EmbeddingBackward0>),\n",
       " tensor([[-0.4676,  1.4562],\n",
       "         [-0.4676,  1.4562],\n",
       "         [-0.4676,  1.4562],\n",
       "         ...,\n",
       "         [ 1.5867,  2.4376],\n",
       "         [ 1.5867,  2.4376],\n",
       "         [ 1.5867,  2.4376]], grad_fn=<EmbeddingBackward0>),\n",
       " tensor([[ 1.2094,  0.6000,  0.8297],\n",
       "         [ 1.2094,  0.6000,  0.8297],\n",
       "         [ 1.2094,  0.6000,  0.8297],\n",
       "         ...,\n",
       "         [-0.9508, -0.3700,  0.0584],\n",
       "         [-0.4841,  0.3036, -0.6847],\n",
       "         [ 1.2094,  0.6000,  0.8297]], grad_fn=<EmbeddingBackward0>),\n",
       " tensor([[-0.4243, -1.1755,  0.2676],\n",
       "         [-0.4243, -1.1755,  0.2676],\n",
       "         [-0.4243, -1.1755,  0.2676],\n",
       "         ...,\n",
       "         [ 1.1485,  0.9988, -0.2841],\n",
       "         [-0.2196,  0.3156, -0.2778],\n",
       "         [ 1.1485,  0.9988, -0.2841]], grad_fn=<EmbeddingBackward0>),\n",
       " tensor([[ 1.6488, -1.1890, -0.3984],\n",
       "         [ 1.6488, -1.1890, -0.3984],\n",
       "         [ 1.6488, -1.1890, -0.3984],\n",
       "         ...,\n",
       "         [ 1.6488, -1.1890, -0.3984],\n",
       "         [ 1.6488, -1.1890, -0.3984],\n",
       "         [ 1.6488, -1.1890, -0.3984]], grad_fn=<EmbeddingBackward0>),\n",
       " tensor([[ 0.0766, -0.0787,  1.1084, -0.7548,  1.6829],\n",
       "         [ 0.0766, -0.0787,  1.1084, -0.7548,  1.6829],\n",
       "         [ 0.5492,  0.5636, -0.6054,  0.6451, -1.1016],\n",
       "         ...,\n",
       "         [ 0.0766, -0.0787,  1.1084, -0.7548,  1.6829],\n",
       "         [ 0.0766, -0.0787,  1.1084, -0.7548,  1.6829],\n",
       "         [ 0.5492,  0.5636, -0.6054,  0.6451, -1.1016]],\n",
       "        grad_fn=<EmbeddingBackward0>),\n",
       " tensor([[0.7374, 0.3717],\n",
       "         [0.7374, 0.3717],\n",
       "         [0.7374, 0.3717],\n",
       "         ...,\n",
       "         [0.7374, 0.3717],\n",
       "         [0.7374, 0.3717],\n",
       "         [0.7374, 0.3717]], grad_fn=<EmbeddingBackward0>),\n",
       " tensor([[ 0.9922,  0.9844, -0.1576,  0.1888, -1.6213],\n",
       "         [ 2.0237,  0.3617,  0.8123,  0.4848, -0.8422],\n",
       "         [ 0.9315, -0.5566,  0.4976,  0.5436, -1.3417],\n",
       "         ...,\n",
       "         [ 0.9315, -0.5566,  0.4976,  0.5436, -1.3417],\n",
       "         [-0.1697,  0.2732,  0.5386, -1.2046, -0.2127],\n",
       "         [ 0.4935, -1.5058,  0.3164, -1.1383,  0.9084]],\n",
       "        grad_fn=<EmbeddingBackward0>),\n",
       " tensor([[-1.9632, -0.6281, -0.4898,  1.4243,  0.2274],\n",
       "         [ 0.0525,  0.5672, -0.8542,  0.9309, -1.6046],\n",
       "         [-1.9632, -0.6281, -0.4898,  1.4243,  0.2274],\n",
       "         ...,\n",
       "         [-1.9632, -0.6281, -0.4898,  1.4243,  0.2274],\n",
       "         [-0.3758, -0.4258,  0.7567,  1.5829, -0.4007],\n",
       "         [ 2.1114, -0.8194, -1.5792, -1.0275,  0.2928]],\n",
       "        grad_fn=<EmbeddingBackward0>),\n",
       " tensor([[ 0.3106, -0.4424,  0.1243],\n",
       "         [ 0.3106, -0.4424,  0.1243],\n",
       "         [ 0.3106, -0.4424,  0.1243],\n",
       "         ...,\n",
       "         [ 0.3106, -0.4424,  0.1243],\n",
       "         [ 0.3106, -0.4424,  0.1243],\n",
       "         [ 0.3106, -0.4424,  0.1243]], grad_fn=<EmbeddingBackward0>),\n",
       " tensor([[-0.5215,  0.0148,  0.9987,  ...,  0.4093, -0.7950,  1.3643],\n",
       "         [-0.5215,  0.0148,  0.9987,  ...,  0.4093, -0.7950,  1.3643],\n",
       "         [-0.5215,  0.0148,  0.9987,  ...,  0.4093, -0.7950,  1.3643],\n",
       "         ...,\n",
       "         [-0.5215,  0.0148,  0.9987,  ...,  0.4093, -0.7950,  1.3643],\n",
       "         [-0.8112, -2.1779,  0.5981,  ...,  0.0882, -0.6493,  0.4247],\n",
       "         [ 0.8122, -0.6024,  0.9002,  ...,  1.0840,  0.4432,  0.3375]],\n",
       "        grad_fn=<EmbeddingBackward0>),\n",
       " tensor([[-1.0509,  0.3069,  0.5793, -0.6881,  1.2065, -1.1562],\n",
       "         [-1.0509,  0.3069,  0.5793, -0.6881,  1.2065, -1.1562],\n",
       "         [-1.0509,  0.3069,  0.5793, -0.6881,  1.2065, -1.1562],\n",
       "         ...,\n",
       "         [-1.0509,  0.3069,  0.5793, -0.6881,  1.2065, -1.1562],\n",
       "         [-1.0509,  0.3069,  0.5793, -0.6881,  1.2065, -1.1562],\n",
       "         [-1.0509,  0.3069,  0.5793, -0.6881,  1.2065, -1.1562]],\n",
       "        grad_fn=<EmbeddingBackward0>),\n",
       " tensor([[-1.0953,  2.3900,  0.6266, -0.2124,  1.3412],\n",
       "         [-1.0953,  2.3900,  0.6266, -0.2124,  1.3412],\n",
       "         [-1.0953,  2.3900,  0.6266, -0.2124,  1.3412],\n",
       "         ...,\n",
       "         [-1.0953,  2.3900,  0.6266, -0.2124,  1.3412],\n",
       "         [-1.0953,  2.3900,  0.6266, -0.2124,  1.3412],\n",
       "         [-1.0953,  2.3900,  0.6266, -0.2124,  1.3412]],\n",
       "        grad_fn=<EmbeddingBackward0>),\n",
       " tensor([[ 0.5296,  0.8261,  0.5014, -0.1782, -1.2701],\n",
       "         [ 0.5296,  0.8261,  0.5014, -0.1782, -1.2701],\n",
       "         [ 0.5296,  0.8261,  0.5014, -0.1782, -1.2701],\n",
       "         ...,\n",
       "         [ 0.5296,  0.8261,  0.5014, -0.1782, -1.2701],\n",
       "         [ 0.2213,  0.5909, -0.4970, -1.3530,  0.0314],\n",
       "         [-0.2749, -0.2358, -1.2361, -0.4421,  1.0896]],\n",
       "        grad_fn=<EmbeddingBackward0>)]"
      ]
     },
     "execution_count": 304,
     "metadata": {},
     "output_type": "execute_result"
    }
   ],
   "source": [
    "embedding_val"
   ]
  },
  {
   "cell_type": "code",
   "execution_count": 305,
   "id": "e6e5cc2a",
   "metadata": {},
   "outputs": [
    {
     "data": {
      "text/plain": [
       "tensor([[ 1.7817, -1.4207, -0.8517,  ...,  0.5014, -0.1782, -1.2701],\n",
       "        [ 1.7817, -1.4207, -0.8517,  ...,  0.5014, -0.1782, -1.2701],\n",
       "        [ 1.7817, -1.4207, -0.8517,  ...,  0.5014, -0.1782, -1.2701],\n",
       "        ...,\n",
       "        [ 1.7817, -1.4207, -0.8517,  ...,  0.5014, -0.1782, -1.2701],\n",
       "        [ 0.4327,  1.0454,  0.1918,  ..., -0.4970, -1.3530,  0.0314],\n",
       "        [ 2.1098,  0.9428,  0.0923,  ..., -1.2361, -0.4421,  1.0896]],\n",
       "       grad_fn=<CatBackward0>)"
      ]
     },
     "execution_count": 305,
     "metadata": {},
     "output_type": "execute_result"
    }
   ],
   "source": [
    "z = torch.cat(embedding_val,1)\n",
    "z"
   ]
  },
  {
   "cell_type": "code",
   "execution_count": 306,
   "id": "368551de",
   "metadata": {},
   "outputs": [],
   "source": [
    "dropout = nn.Dropout(0.4)"
   ]
  },
  {
   "cell_type": "code",
   "execution_count": 307,
   "id": "6ee23085",
   "metadata": {},
   "outputs": [
    {
     "data": {
      "text/plain": [
       "tensor([[ 0.0000, -2.3679, -1.4196,  ...,  0.0000, -0.2969, -2.1168],\n",
       "        [ 2.9694, -2.3679, -1.4196,  ...,  0.8357, -0.2969, -2.1168],\n",
       "        [ 0.0000, -2.3679, -1.4196,  ...,  0.8357, -0.0000, -2.1168],\n",
       "        ...,\n",
       "        [ 0.0000, -0.0000, -0.0000,  ...,  0.8357, -0.0000, -0.0000],\n",
       "        [ 0.7212,  0.0000,  0.3196,  ..., -0.0000, -2.2551,  0.0000],\n",
       "        [ 0.0000,  1.5713,  0.0000,  ..., -2.0602, -0.0000,  1.8159]],\n",
       "       grad_fn=<MulBackward0>)"
      ]
     },
     "execution_count": 307,
     "metadata": {},
     "output_type": "execute_result"
    }
   ],
   "source": [
    "final_embedding = dropout(z)\n",
    "final_embedding"
   ]
  },
  {
   "cell_type": "code",
   "execution_count": null,
   "id": "37c442ab",
   "metadata": {},
   "outputs": [],
   "source": [
    "class FeedForwardNN(nn.Module):\n",
    "    def __init__(self,embedding_dim,n_count,out_sz,layers,p =0.5):\n",
    "        super().__init__\n",
    "        "
   ]
  }
 ],
 "metadata": {
  "kernelspec": {
   "display_name": "Python 3 (ipykernel)",
   "language": "python",
   "name": "python3"
  },
  "language_info": {
   "codemirror_mode": {
    "name": "ipython",
    "version": 3
   },
   "file_extension": ".py",
   "mimetype": "text/x-python",
   "name": "python",
   "nbconvert_exporter": "python",
   "pygments_lexer": "ipython3",
   "version": "3.11.5"
  }
 },
 "nbformat": 4,
 "nbformat_minor": 5
}
