{
 "cells": [
  {
   "cell_type": "code",
   "execution_count": 1,
   "id": "32a10fa5",
   "metadata": {},
   "outputs": [],
   "source": [
    "import pandas as pd\n",
    "import numpy as np\n",
    "from sklearn.model_selection import train_test_split\n",
    "\n",
    "import torch\n",
    "import torch.nn as nn\n",
    "import torch.nn.functional as F"
   ]
  },
  {
   "cell_type": "code",
   "execution_count": 203,
   "id": "13c34ade",
   "metadata": {},
   "outputs": [
    {
     "name": "stdout",
     "output_type": "stream",
     "text": [
      "<class 'pandas.core.frame.DataFrame'>\n",
      "RangeIndex: 768 entries, 0 to 767\n",
      "Data columns (total 8 columns):\n",
      " #   Column                    Non-Null Count  Dtype  \n",
      "---  ------                    --------------  -----  \n",
      " 0   Glucose                   768 non-null    int64  \n",
      " 1   BloodPressure             768 non-null    int64  \n",
      " 2   SkinThickness             768 non-null    int64  \n",
      " 3   Insulin                   768 non-null    int64  \n",
      " 4   BMI                       768 non-null    float64\n",
      " 5   DiabetesPedigreeFunction  768 non-null    float64\n",
      " 6   Age                       768 non-null    int64  \n",
      " 7   Outcome                   768 non-null    int64  \n",
      "dtypes: float64(2), int64(6)\n",
      "memory usage: 48.1 KB\n"
     ]
    }
   ],
   "source": [
    "df = pd.read_csv(\"diabetes.csv\")\n",
    "df.info()"
   ]
  },
  {
   "cell_type": "code",
   "execution_count": 204,
   "id": "da66c93c",
   "metadata": {},
   "outputs": [],
   "source": [
    "import seaborn as sns"
   ]
  },
  {
   "cell_type": "code",
   "execution_count": 205,
   "id": "409abbc4",
   "metadata": {},
   "outputs": [],
   "source": [
    "#sns.pairplot(df, hue = \"Outcome\")"
   ]
  },
  {
   "cell_type": "code",
   "execution_count": 206,
   "id": "4fd6ff2c",
   "metadata": {},
   "outputs": [],
   "source": [
    "x = df.drop(\"Outcome\", axis = 1)\n",
    "y = df[\"Outcome\"]"
   ]
  },
  {
   "cell_type": "code",
   "execution_count": 207,
   "id": "117fff23",
   "metadata": {},
   "outputs": [],
   "source": [
    "x_train,x_test,y_train,y_test = train_test_split(x,y, test_size= 0.3, random_state=42)"
   ]
  },
  {
   "cell_type": "code",
   "execution_count": null,
   "id": "f317b821",
   "metadata": {},
   "outputs": [],
   "source": []
  },
  {
   "cell_type": "code",
   "execution_count": 208,
   "id": "25aeafd0",
   "metadata": {},
   "outputs": [],
   "source": [
    "x_train = np.array(x_train)\n",
    "x_test = np.array(x_test)\n",
    "y_train = np.array(y_train)\n",
    "y_test = np.array(y_test)\n",
    "\n"
   ]
  },
  {
   "cell_type": "code",
   "execution_count": 209,
   "id": "90115aa1",
   "metadata": {},
   "outputs": [],
   "source": [
    "x_train = torch.FloatTensor(x_train)\n",
    "x_test = torch.FloatTensor(x_test)\n",
    "y_train = torch.LongTensor(y_train)\n",
    "y_test = torch.LongTensor(y_test)"
   ]
  },
  {
   "cell_type": "code",
   "execution_count": 210,
   "id": "ffa67dff",
   "metadata": {},
   "outputs": [
    {
     "data": {
      "text/plain": [
       "(768, 8)"
      ]
     },
     "execution_count": 210,
     "metadata": {},
     "output_type": "execute_result"
    }
   ],
   "source": [
    "df.shape"
   ]
  },
  {
   "cell_type": "code",
   "execution_count": 211,
   "id": "e5987ba5",
   "metadata": {},
   "outputs": [],
   "source": [
    "class Ann_Dia(nn.Module):\n",
    "    def __init__(self, input_features= 7, hidden1 = 20, hidden2 = 20, out_features = 2):\n",
    "        super().__init__()\n",
    "        self.f_connected1 = nn.Linear(input_features, hidden1)\n",
    "        self.f_connected2 = nn.Linear(hidden1,hidden2)\n",
    "        self.out = nn.Linear(hidden2, out_features)\n",
    "        \n",
    "    def forward(self, x):\n",
    "        x = F.relu(self.f_connected1(x))\n",
    "        x = F.relu(self.f_connected2(x))\n",
    "        x = self.out(x)\n",
    "        return x"
   ]
  },
  {
   "cell_type": "code",
   "execution_count": 212,
   "id": "83b61ec9",
   "metadata": {},
   "outputs": [],
   "source": [
    "torch.manual_seed(20)\n",
    "model = Ann_Dia()"
   ]
  },
  {
   "cell_type": "code",
   "execution_count": 213,
   "id": "111323f1",
   "metadata": {},
   "outputs": [
    {
     "data": {
      "text/plain": [
       "<bound method Module.parameters of Ann_Dia(\n",
       "  (f_connected1): Linear(in_features=7, out_features=20, bias=True)\n",
       "  (f_connected2): Linear(in_features=20, out_features=20, bias=True)\n",
       "  (out): Linear(in_features=20, out_features=2, bias=True)\n",
       ")>"
      ]
     },
     "execution_count": 213,
     "metadata": {},
     "output_type": "execute_result"
    }
   ],
   "source": [
    "model.parameters"
   ]
  },
  {
   "cell_type": "code",
   "execution_count": 214,
   "id": "e3fdf97f",
   "metadata": {},
   "outputs": [],
   "source": [
    "loss_function = nn.CrossEntropyLoss()\n",
    "optimizer = torch.optim.Adam(model.parameters(), lr=0.01)"
   ]
  },
  {
   "cell_type": "code",
   "execution_count": 215,
   "id": "ff609486",
   "metadata": {},
   "outputs": [
    {
     "name": "stdout",
     "output_type": "stream",
     "text": [
      "Epoch Number: 1 and The Loss is: 2.454572916030884\n",
      "Epoch Number: 51 and The Loss is: 0.5592770576477051\n",
      "Epoch Number: 101 and The Loss is: 0.477567195892334\n",
      "Epoch Number: 151 and The Loss is: 0.434358149766922\n",
      "Epoch Number: 201 and The Loss is: 0.40634411573410034\n",
      "Epoch Number: 251 and The Loss is: 0.3852420151233673\n",
      "Epoch Number: 301 and The Loss is: 0.35646283626556396\n",
      "Epoch Number: 351 and The Loss is: 0.3333718776702881\n",
      "Epoch Number: 401 and The Loss is: 0.32945820689201355\n",
      "Epoch Number: 451 and The Loss is: 0.31913116574287415\n",
      "Epoch Number: 501 and The Loss is: 0.2925035357475281\n",
      "Epoch Number: 551 and The Loss is: 0.2846338152885437\n",
      "Epoch Number: 601 and The Loss is: 0.2893933057785034\n",
      "Epoch Number: 651 and The Loss is: 0.25755396485328674\n",
      "Epoch Number: 701 and The Loss is: 0.2735658288002014\n",
      "Epoch Number: 751 and The Loss is: 0.2450132817029953\n",
      "Epoch Number: 801 and The Loss is: 0.24141916632652283\n",
      "Epoch Number: 851 and The Loss is: 0.2356109917163849\n",
      "Epoch Number: 901 and The Loss is: 0.26163923740386963\n",
      "Epoch Number: 951 and The Loss is: 0.22047679126262665\n",
      "Epoch Number: 1001 and The Loss is: 0.2204316407442093\n",
      "Epoch Number: 1051 and The Loss is: 0.2170349359512329\n",
      "Epoch Number: 1101 and The Loss is: 0.20953713357448578\n",
      "Epoch Number: 1151 and The Loss is: 0.21578863263130188\n",
      "Epoch Number: 1201 and The Loss is: 0.24495556950569153\n",
      "Epoch Number: 1251 and The Loss is: 0.2257547527551651\n",
      "Epoch Number: 1301 and The Loss is: 0.19614006578922272\n",
      "Epoch Number: 1351 and The Loss is: 0.2027875781059265\n",
      "Epoch Number: 1401 and The Loss is: 0.19703081250190735\n",
      "Epoch Number: 1451 and The Loss is: 0.19788508117198944\n"
     ]
    }
   ],
   "source": [
    "epochs = 1500\n",
    "final_losses = []\n",
    "for i in range(epochs):\n",
    "    i = i + 1\n",
    "    y_pred = model.forward(x_train)\n",
    "    loss = loss_function(y_pred,y_train)\n",
    "    final_losses.append(loss)\n",
    "    if i %50 == 1:\n",
    "        print(\"Epoch Number: {} and The Loss is: {}\".format(i,loss))\n",
    "    optimizer.zero_grad()\n",
    "    loss.backward()\n",
    "    optimizer.step()"
   ]
  },
  {
   "cell_type": "code",
   "execution_count": 216,
   "id": "fa4d34a8",
   "metadata": {},
   "outputs": [],
   "source": [
    "import matplotlib.pyplot as plt\n",
    "%matplotlib inline"
   ]
  },
  {
   "cell_type": "code",
   "execution_count": 217,
   "id": "09003ea2",
   "metadata": {},
   "outputs": [
    {
     "data": {
      "text/plain": [
       "Text(0, 0.5, 'Epochs')"
      ]
     },
     "execution_count": 217,
     "metadata": {},
     "output_type": "execute_result"
    },
    {
     "data": {
      "image/png": "[encoded data removed]",
      "text/plain": [
       "<Figure size 640x480 with 1 Axes>"
      ]
     },
     "metadata": {},
     "output_type": "display_data"
    }
   ],
   "source": [
    "final_losses_tensor = torch.tensor(final_losses)\n",
    "final_losses_numpy = final_losses_tensor.detach().numpy()\n",
    "plt.plot(range(epochs),final_losses_numpy)\n",
    "plt.xlabel(\"Loss\")\n",
    "plt.ylabel(\"Epochs\")"
   ]
  },
  {
   "cell_type": "code",
   "execution_count": 218,
   "id": "6105c0ff",
   "metadata": {},
   "outputs": [
    {
     "name": "stdout",
     "output_type": "stream",
     "text": [
      "[0, 1, 0, 0, 1, 0, 0, 1, 1, 1, 0, 1, 1, 0, 0, 0, 0, 0, 1, 0, 0, 0, 0, 0, 1, 1, 0, 0, 0, 0, 0, 1, 1, 1, 0, 1, 0, 0, 0, 1, 0, 0, 0, 0, 0, 1, 0, 0, 0, 1, 0, 0, 1, 0, 0, 0, 0, 0, 0, 1, 1, 0, 1, 0, 0, 0, 0, 1, 0, 1, 1, 0, 0, 0, 0, 1, 0, 0, 0, 0, 1, 0, 0, 0, 0, 1, 1, 0, 0, 0, 0, 0, 0, 1, 1, 1, 1, 1, 0, 0, 0, 0, 1, 1, 0, 1, 1, 0, 0, 1, 0, 0, 0, 1, 0, 1, 1, 1, 0, 1, 0, 0, 0, 0, 1, 0, 0, 1, 1, 1, 1, 1, 0, 1, 0, 0, 0, 1, 0, 0, 0, 0, 0, 1, 0, 1, 0, 0, 0, 1, 0, 1, 1, 0, 0, 0, 0, 0, 0, 0, 1, 1, 0, 0, 0, 1, 0, 1, 1, 0, 1, 0, 1, 0, 1, 0, 0, 0, 1, 1, 0, 1, 0, 1, 1, 0, 0, 0, 0, 0, 0, 0, 0, 0, 0, 0, 0, 0, 0, 1, 0, 0, 1, 0, 1, 0, 0, 0, 1, 1, 0, 0, 0, 0, 1, 0, 0, 0, 0, 1, 1, 0, 0, 0, 0, 1, 1, 0, 0, 0, 0]\n"
     ]
    }
   ],
   "source": [
    "predictions = []\n",
    "with torch.no_grad():\n",
    "    for i, data in enumerate(x_test):\n",
    "        y_pred = model(data)\n",
    "        predictions.append(y_pred.argmax().item())\n",
    "print(predictions)"
   ]
  },
  {
   "cell_type": "code",
   "execution_count": 219,
   "id": "a07eca50",
   "metadata": {},
   "outputs": [],
   "source": [
    "l= [0, 0, 0, 0, 1, 1, 0, 1, 1, 1, 0, 1, 1, 0, 0, 0, 0, 0, 1, 0, 0, 0, 1, 0, 0, 1, 0, 0, 0, 0, 0, 1, 1, 1, 0, 1, 0, 0, 0, 1, 0, \n",
    " 0, 1, 0, 0, 1, 0, 0, 0, 1, 0, 1, 1, 0, 0, 0, 0, 0, 0, 1, 1, 1, 1, 0, 1, 1, 0, 1, 0, 1, 1, 0, 0, 0, 0, 1, 0, 0, 0, 0, 1, 0,\n",
    " 0, 0, 0, 1, 1, 0, 0, 0, 0, 0, 0, 0, 1, 1, 1, 0, 0, 0, 1, 0, 1, 1, 1, 1, 1, 1, 0, 1, 0, 0, 0, 1, 0, 1, 1, 0, 0, 1, 0, 0, 0,\n",
    " 0, 1, 0, 0, 1, 1, 1, 1, 1, 0, 1, 0, 0, 0, 1, 1, 0, 0, 0, 0, 0, 0, 1, 0, 0, 0, 1, 0, 0, 1, 0, 0, 0, 0, 1, 1, 0, 1, 1, 0, 0, \n",
    " 0, 1, 0, 1, 1, 1, 1, 0, 1, 0, 1, 0, 0, 0, 1, 1, 1, 0, 0, 1, 1, 0, 0, 0, 1, 0, 0, 0, 0, 0, 0, 1, 0, 0, 0, 1, 0, 0, 1, 0, 1, \n",
    " 0, 0, 0, 1, 1, 0, 0, 0, 0, 1, 1, 0, 0, 0, 1, 1, 0, 0, 0, 0, 1, 1, 0, 0, 0, 0]"
   ]
  },
  {
   "cell_type": "code",
   "execution_count": 220,
   "id": "8f2399f5",
   "metadata": {},
   "outputs": [
    {
     "data": {
      "text/plain": [
       "tensor([ 98.0000,  58.0000,  33.0000, 190.0000,  34.0000,   0.4300,  43.0000])"
      ]
     },
     "execution_count": 220,
     "metadata": {},
     "output_type": "execute_result"
    }
   ],
   "source": [
    "x_test[0]"
   ]
  },
  {
   "cell_type": "code",
   "execution_count": 221,
   "id": "aac2e204",
   "metadata": {},
   "outputs": [
    {
     "data": {
      "text/plain": [
       "torch.autograd.grad_mode.no_grad"
      ]
     },
     "execution_count": 221,
     "metadata": {},
     "output_type": "execute_result"
    }
   ],
   "source": [
    "torch.no_grad"
   ]
  },
  {
   "cell_type": "code",
   "execution_count": 222,
   "id": "2d9f33a6",
   "metadata": {},
   "outputs": [
    {
     "data": {
      "text/plain": [
       "tensor([ 21.7522, -21.0127])"
      ]
     },
     "execution_count": 222,
     "metadata": {},
     "output_type": "execute_result"
    }
   ],
   "source": [
    "y_pred"
   ]
  },
  {
   "cell_type": "code",
   "execution_count": 223,
   "id": "e3361945",
   "metadata": {},
   "outputs": [],
   "source": [
    "from sklearn.metrics import confusion_matrix, classification_report, accuracy_score"
   ]
  },
  {
   "cell_type": "code",
   "execution_count": 224,
   "id": "112a3f8e",
   "metadata": {},
   "outputs": [
    {
     "name": "stdout",
     "output_type": "stream",
     "text": [
      "Accuracy is: 0.7012987012987013\n",
      "Confusion Matrix is :\n",
      " [[117  34]\n",
      " [ 35  45]]\n"
     ]
    }
   ],
   "source": [
    "acc = accuracy_score(y_test,predictions)\n",
    "print(\"Accuracy is:\", acc)\n",
    "cnf = confusion_matrix(y_test,predictions)\n",
    "print(\"Confusion Matrix is :\\n\", cnf)"
   ]
  },
  {
   "cell_type": "code",
   "execution_count": 225,
   "id": "8234333c",
   "metadata": {},
   "outputs": [],
   "source": [
    "#Save The Model\n",
    "\n",
    "torch.save(model, \"diabetes.pt\")"
   ]
  },
  {
   "cell_type": "code",
   "execution_count": 226,
   "id": "0c6e1c4d",
   "metadata": {},
   "outputs": [
    {
     "data": {
      "text/plain": [
       "<bound method Module.eval of Ann_Dia(\n",
       "  (f_connected1): Linear(in_features=7, out_features=20, bias=True)\n",
       "  (f_connected2): Linear(in_features=20, out_features=20, bias=True)\n",
       "  (out): Linear(in_features=20, out_features=2, bias=True)\n",
       ")>"
      ]
     },
     "execution_count": 226,
     "metadata": {},
     "output_type": "execute_result"
    }
   ],
   "source": [
    "model.eval"
   ]
  },
  {
   "cell_type": "code",
   "execution_count": 227,
   "id": "fc1852b7",
   "metadata": {},
   "outputs": [
    {
     "data": {
      "text/plain": [
       "[148.0, 50.0, 35.0, 0.0, 33.6, 0.627, 50.0]"
      ]
     },
     "execution_count": 227,
     "metadata": {},
     "output_type": "execute_result"
    }
   ],
   "source": [
    "lst1 = list(df.iloc[0,:-1])\n",
    "lst1"
   ]
  },
  {
   "cell_type": "code",
   "execution_count": 228,
   "id": "20f7e915",
   "metadata": {},
   "outputs": [],
   "source": [
    "lst2 = [198.0, 78.0, 49.0, 0.0, 42.6, 0.787, 60.0]"
   ]
  },
  {
   "cell_type": "code",
   "execution_count": 229,
   "id": "62523897",
   "metadata": {},
   "outputs": [],
   "source": [
    "new_data = torch.tensor(lst2)"
   ]
  },
  {
   "cell_type": "code",
   "execution_count": 231,
   "id": "db2c480f",
   "metadata": {},
   "outputs": [
    {
     "name": "stdout",
     "output_type": "stream",
     "text": [
      "1\n"
     ]
    }
   ],
   "source": [
    "with torch.no_grad():\n",
    "    model(new_data)\n",
    "    print(model(new_data).argmax().item())"
   ]
  },
  {
   "cell_type": "code",
   "execution_count": 232,
   "id": "fdb67701",
   "metadata": {},
   "outputs": [
    {
     "name": "stdout",
     "output_type": "stream",
     "text": [
      "1\n"
     ]
    }
   ],
   "source": [
    "print(model(new_data).argmax().item())"
   ]
  },
  {
   "cell_type": "code",
   "execution_count": 233,
   "id": "63c3470e",
   "metadata": {},
   "outputs": [
    {
     "data": {
      "text/plain": [
       "tensor([-7.0564,  7.5313], grad_fn=<AddBackward0>)"
      ]
     },
     "execution_count": 233,
     "metadata": {},
     "output_type": "execute_result"
    }
   ],
   "source": [
    "model(new_data)"
   ]
  },
  {
   "cell_type": "code",
   "execution_count": null,
   "id": "57559ee7",
   "metadata": {},
   "outputs": [],
   "source": []
  }
 ],
 "metadata": {
  "kernelspec": {
   "display_name": "Python 3 (ipykernel)",
   "language": "python",
   "name": "python3"
  },
  "language_info": {
   "codemirror_mode": {
    "name": "ipython",
    "version": 3
   },
   "file_extension": ".py",
   "mimetype": "text/x-python",
   "name": "python",
   "nbconvert_exporter": "python",
   "pygments_lexer": "ipython3",
   "version": "3.11.5"
  }
 },
 "nbformat": 4,
 "nbformat_minor": 5
}
